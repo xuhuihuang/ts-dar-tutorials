{
 "cells": [
  {
   "cell_type": "code",
   "execution_count": 1,
   "id": "21644d90",
   "metadata": {},
   "outputs": [],
   "source": [
    "import numpy as np\n",
    "import torch\n",
    "import torch.nn as nn\n",
    "from matplotlib import pyplot as plt\n",
    "\n",
    "from torch.utils.data.dataloader import DataLoader\n",
    "from torch.utils.data import random_split\n",
    "\n",
    "from tsdart.utils import set_random_seed\n",
    "from tsdart.loss import Prototypes\n",
    "from tsdart.model import TSDART, TSDARTLayer, TSDARTEstimator\n",
    "from tsdart.dataprocessing import Preprocessing"
   ]
  },
  {
   "cell_type": "code",
   "execution_count": 2,
   "id": "0512506f",
   "metadata": {},
   "outputs": [],
   "source": [
    "device = torch.device('cpu')"
   ]
  },
  {
   "cell_type": "code",
   "execution_count": 8,
   "id": "548a64a8",
   "metadata": {},
   "outputs": [
    {
     "name": "stdout",
     "output_type": "stream",
     "text": [
      "(11701, 1000)\n",
      "(11930, 1000)\n",
      "(11925, 1000)\n",
      "(11948, 1000)\n",
      "(11911, 1000)\n",
      "(12008, 1000)\n",
      "(11997, 1000)\n",
      "(11952, 1000)\n",
      "(12053, 1000)\n",
      "(11933, 1000)\n"
     ]
    }
   ],
   "source": [
    "data = []\n",
    "for i in range(10):\n",
    "    tmp = np.load(rf'./data/spec_osasis_filter_1000_select_CA_pairwise_distances_WT_{i}_traj.npy')\n",
    "    print(np.shape(tmp))\n",
    "    data.append(tmp)"
   ]
  },
  {
   "cell_type": "code",
   "execution_count": 5,
   "id": "2b20420d",
   "metadata": {},
   "outputs": [],
   "source": [
    "pre = Preprocessing(dtype=np.float32)\n",
    "dataset = pre.create_dataset(lag_time=10,data=data)"
   ]
  },
  {
   "cell_type": "code",
   "execution_count": 6,
   "id": "d1625670",
   "metadata": {},
   "outputs": [
    {
     "name": "stderr",
     "output_type": "stream",
     "text": [
      "                                                      \r"
     ]
    }
   ],
   "source": [
    "set_random_seed(0)\n",
    "\n",
    "for i in range(1,11):\n",
    "    import os\n",
    "    os.chdir(rf'./2states-wt-1/{i}')\n",
    "\n",
    "    val = int(len(dataset)*0.10)\n",
    "    train_data, val_data = torch.utils.data.random_split(dataset, [len(dataset)-val, val]) #way the dataset is split depends on the underlying pseudo-random number generator\n",
    "\n",
    "    loader_train = DataLoader(train_data, batch_size=1000, shuffle=True)\n",
    "    loader_val = DataLoader(val_data, batch_size=len(val_data), shuffle=False)\n",
    "\n",
    "    lobe = TSDARTLayer([1000,550,250,100,50,25,2],n_states=2)\n",
    "    lobe = lobe.to(device=device)\n",
    "\n",
    "    tsdart = TSDART(lobe = lobe, learning_rate = 1e-3, device = device, mode = 'regularize', beta=0.01 , feat_dim=2, n_states=2, pretrain=50)\n",
    "    tsdart_model = tsdart.fit(loader_train, n_epochs=60, validation_loader=loader_val).fetch_model()\n",
    "\n",
    "    validation_vamp = tsdart.validation_vamp\n",
    "    validation_dis = tsdart.validation_dis\n",
    "    validation_prototypes = tsdart.validation_prototypes\n",
    "\n",
    "    training_vamp = tsdart.training_vamp\n",
    "    training_dis = tsdart.training_dis\n",
    "\n",
    "    np.save(('validation_vamp.npy'),validation_vamp)\n",
    "    np.save(('validation_dis.npy'),validation_dis)\n",
    "    np.save(('validation_prototypes.npy'),validation_prototypes)\n",
    "\n",
    "    np.save(('training_vamp.npy'),training_vamp)\n",
    "    np.save(('training_dis.npy'),training_dis)\n",
    "\n",
    "    hypersphere_embs = tsdart_model.transform(data=data,return_type='hypersphere_embs')\n",
    "    metastable_states = tsdart_model.transform(data=data,return_type='states')\n",
    "\n",
    "    tsdart_estimator = TSDARTEstimator(tsdart_model)\n",
    "    ood_scores = tsdart_estimator.fit(data).ood_scores\n",
    "    state_centers = tsdart_estimator.fit(data).state_centers\n",
    "\n",
    "    hypersphere_embs = np.array(hypersphere_embs,dtype=object)\n",
    "    metastable_states = np.array(metastable_states,dtype=object)\n",
    "    ood_scores = np.array(ood_scores,dtype=object)\n",
    "\n",
    "    np.save(('hypersphere_embs.npy'), hypersphere_embs, allow_pickle=True)\n",
    "    np.save(('metastable_states.npy'), metastable_states, allow_pickle=True)\n",
    "    np.save(('ood_scores.npy'), ood_scores, allow_pickle=True)\n",
    "    np.save(('state_centers.npy'), state_centers)\n",
    "\n",
    "    torch.save(tsdart_model.lobe.state_dict(), 'model.pt')"
   ]
  }
 ],
 "metadata": {
  "kernelspec": {
   "display_name": "Python (msm)",
   "language": "python",
   "name": "msm"
  },
  "language_info": {
   "codemirror_mode": {
    "name": "ipython",
    "version": 3
   },
   "file_extension": ".py",
   "mimetype": "text/x-python",
   "name": "python",
   "nbconvert_exporter": "python",
   "pygments_lexer": "ipython3",
   "version": "3.9.18"
  }
 },
 "nbformat": 4,
 "nbformat_minor": 5
}
